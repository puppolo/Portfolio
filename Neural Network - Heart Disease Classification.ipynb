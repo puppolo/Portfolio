{
 "cells": [
  {
   "cell_type": "markdown",
   "id": "84d42c72-f82d-45c9-bd41-315e46aeb01d",
   "metadata": {
    "id": "84d42c72-f82d-45c9-bd41-315e46aeb01d"
   },
   "source": [
    "# Case 1. Heart Disease Classification\n",
    "**Neural Networks for Machine Learning Applications**<br>\n",
    "06.02.2022<br>\n",
    "G11 Aitalina Krivoshapkina, Wai Ning Wong, Nontanat Nutsati <br>\n",
    "Metropolia University of Applied Sciences"
   ]
  },
  {
   "cell_type": "markdown",
   "id": "cb1318f7-7ad8-4794-9f71-21446af714f2",
   "metadata": {
    "id": "cb1318f7-7ad8-4794-9f71-21446af714f2"
   },
   "source": [
    "## 1. Introduction\n",
    "\n",
    "This report shows our approach to solving a binary classification problem - **predicting the presence of heart disease**, with a dense neural network.\n",
    "\n",
    "It involves:\n",
    "- how to preprocess the data (normalize and encode categories)\n",
    "- how to make classification on imbalanced data\n",
    "- how to split a dataset into train and test sets\n",
    "- how to use the sequential model\n",
    "- how to train and evaluate the models\n",
    "- how to analyse results using numerical metrics and graphical plots"
   ]
  },
  {
   "cell_type": "markdown",
   "id": "798f751a-0465-4fda-89a9-2779687e7f64",
   "metadata": {
    "id": "798f751a-0465-4fda-89a9-2779687e7f64"
   },
   "source": [
    "## 2. Setup\n",
    "\n",
    "The following libraries and functions were used"
   ]
  },
  {
   "cell_type": "code",
   "execution_count": 59,
   "id": "555657a0-6b85-4bd1-bceb-56b0b8f07989",
   "metadata": {
    "id": "555657a0-6b85-4bd1-bceb-56b0b8f07989"
   },
   "outputs": [],
   "source": [
    "import time\n",
    "import pandas as pd\n",
    "import tensorflow as tf\n",
    "import seaborn as sns\n",
    "import numpy as np\n",
    "import matplotlib.pyplot as plt\n",
    "\n",
    "from sklearn.metrics import classification_report, confusion_matrix\n",
    "from sklearn.model_selection import train_test_split\n",
    "from tensorflow.keras import models, layers, losses, metrics, optimizers"
   ]
  },
  {
   "cell_type": "markdown",
   "id": "5c975623-3a9b-4bf9-847e-4a2c0f0bd0c3",
   "metadata": {
    "id": "5c975623-3a9b-4bf9-847e-4a2c0f0bd0c3"
   },
   "source": [
    "## 3. Dataset"
   ]
  },
  {
   "cell_type": "code",
   "execution_count": 60,
   "id": "6tLNi4aS25Yb",
   "metadata": {
    "colab": {
     "base_uri": "https://localhost:8080/"
    },
    "id": "6tLNi4aS25Yb",
    "outputId": "77f9d15e-05bc-44bc-c0a6-39bc4a1f70bf"
   },
   "outputs": [],
   "source": [
    "from google.colab import drive\n",
    "drive.mount('/content/drive')\n",
    "%cd /content/drive/MyDrive/Colab Notebooks/"
   ]
  },
  {
   "cell_type": "markdown",
   "id": "JZ0u4SbmuQtS",
   "metadata": {
    "id": "JZ0u4SbmuQtS"
   },
   "source": [
    "Dataset is fetched from https://www.kaggle.com/alexteboul/heart-disease-health-indicators-dataset"
   ]
  },
  {
   "cell_type": "code",
   "execution_count": 61,
   "id": "86c36f2f-b33c-478a-9ab5-19757a9bc82f",
   "metadata": {
    "colab": {
     "base_uri": "https://localhost:8080/",
     "height": 739
    },
    "id": "86c36f2f-b33c-478a-9ab5-19757a9bc82f",
    "outputId": "6b4ced76-3c77-4869-a151-acab516c30bb"
   },
   "outputs": [
    {
     "data": {
      "text/html": [
       "<div>\n",
       "<style scoped>\n",
       "    .dataframe tbody tr th:only-of-type {\n",
       "        vertical-align: middle;\n",
       "    }\n",
       "\n",
       "    .dataframe tbody tr th {\n",
       "        vertical-align: top;\n",
       "    }\n",
       "\n",
       "    .dataframe thead th {\n",
       "        text-align: right;\n",
       "    }\n",
       "</style>\n",
       "<table border=\"1\" class=\"dataframe\">\n",
       "  <thead>\n",
       "    <tr style=\"text-align: right;\">\n",
       "      <th></th>\n",
       "      <th>count</th>\n",
       "      <th>mean</th>\n",
       "      <th>std</th>\n",
       "      <th>min</th>\n",
       "      <th>25%</th>\n",
       "      <th>50%</th>\n",
       "      <th>75%</th>\n",
       "      <th>max</th>\n",
       "    </tr>\n",
       "  </thead>\n",
       "  <tbody>\n",
       "    <tr>\n",
       "      <th>HeartDiseaseorAttack</th>\n",
       "      <td>253680.0</td>\n",
       "      <td>0.094186</td>\n",
       "      <td>0.292087</td>\n",
       "      <td>0.0</td>\n",
       "      <td>0.0</td>\n",
       "      <td>0.0</td>\n",
       "      <td>0.0</td>\n",
       "      <td>1.0</td>\n",
       "    </tr>\n",
       "    <tr>\n",
       "      <th>HighBP</th>\n",
       "      <td>253680.0</td>\n",
       "      <td>0.429001</td>\n",
       "      <td>0.494934</td>\n",
       "      <td>0.0</td>\n",
       "      <td>0.0</td>\n",
       "      <td>0.0</td>\n",
       "      <td>1.0</td>\n",
       "      <td>1.0</td>\n",
       "    </tr>\n",
       "    <tr>\n",
       "      <th>HighChol</th>\n",
       "      <td>253680.0</td>\n",
       "      <td>0.424121</td>\n",
       "      <td>0.494210</td>\n",
       "      <td>0.0</td>\n",
       "      <td>0.0</td>\n",
       "      <td>0.0</td>\n",
       "      <td>1.0</td>\n",
       "      <td>1.0</td>\n",
       "    </tr>\n",
       "    <tr>\n",
       "      <th>CholCheck</th>\n",
       "      <td>253680.0</td>\n",
       "      <td>0.962670</td>\n",
       "      <td>0.189571</td>\n",
       "      <td>0.0</td>\n",
       "      <td>1.0</td>\n",
       "      <td>1.0</td>\n",
       "      <td>1.0</td>\n",
       "      <td>1.0</td>\n",
       "    </tr>\n",
       "    <tr>\n",
       "      <th>BMI</th>\n",
       "      <td>253680.0</td>\n",
       "      <td>28.382364</td>\n",
       "      <td>6.608694</td>\n",
       "      <td>12.0</td>\n",
       "      <td>24.0</td>\n",
       "      <td>27.0</td>\n",
       "      <td>31.0</td>\n",
       "      <td>98.0</td>\n",
       "    </tr>\n",
       "    <tr>\n",
       "      <th>Smoker</th>\n",
       "      <td>253680.0</td>\n",
       "      <td>0.443169</td>\n",
       "      <td>0.496761</td>\n",
       "      <td>0.0</td>\n",
       "      <td>0.0</td>\n",
       "      <td>0.0</td>\n",
       "      <td>1.0</td>\n",
       "      <td>1.0</td>\n",
       "    </tr>\n",
       "    <tr>\n",
       "      <th>Stroke</th>\n",
       "      <td>253680.0</td>\n",
       "      <td>0.040571</td>\n",
       "      <td>0.197294</td>\n",
       "      <td>0.0</td>\n",
       "      <td>0.0</td>\n",
       "      <td>0.0</td>\n",
       "      <td>0.0</td>\n",
       "      <td>1.0</td>\n",
       "    </tr>\n",
       "    <tr>\n",
       "      <th>Diabetes</th>\n",
       "      <td>253680.0</td>\n",
       "      <td>0.296921</td>\n",
       "      <td>0.698160</td>\n",
       "      <td>0.0</td>\n",
       "      <td>0.0</td>\n",
       "      <td>0.0</td>\n",
       "      <td>0.0</td>\n",
       "      <td>2.0</td>\n",
       "    </tr>\n",
       "    <tr>\n",
       "      <th>PhysActivity</th>\n",
       "      <td>253680.0</td>\n",
       "      <td>0.756544</td>\n",
       "      <td>0.429169</td>\n",
       "      <td>0.0</td>\n",
       "      <td>1.0</td>\n",
       "      <td>1.0</td>\n",
       "      <td>1.0</td>\n",
       "      <td>1.0</td>\n",
       "    </tr>\n",
       "    <tr>\n",
       "      <th>Fruits</th>\n",
       "      <td>253680.0</td>\n",
       "      <td>0.634256</td>\n",
       "      <td>0.481639</td>\n",
       "      <td>0.0</td>\n",
       "      <td>0.0</td>\n",
       "      <td>1.0</td>\n",
       "      <td>1.0</td>\n",
       "      <td>1.0</td>\n",
       "    </tr>\n",
       "    <tr>\n",
       "      <th>Veggies</th>\n",
       "      <td>253680.0</td>\n",
       "      <td>0.811420</td>\n",
       "      <td>0.391175</td>\n",
       "      <td>0.0</td>\n",
       "      <td>1.0</td>\n",
       "      <td>1.0</td>\n",
       "      <td>1.0</td>\n",
       "      <td>1.0</td>\n",
       "    </tr>\n",
       "    <tr>\n",
       "      <th>HvyAlcoholConsump</th>\n",
       "      <td>253680.0</td>\n",
       "      <td>0.056197</td>\n",
       "      <td>0.230302</td>\n",
       "      <td>0.0</td>\n",
       "      <td>0.0</td>\n",
       "      <td>0.0</td>\n",
       "      <td>0.0</td>\n",
       "      <td>1.0</td>\n",
       "    </tr>\n",
       "    <tr>\n",
       "      <th>AnyHealthcare</th>\n",
       "      <td>253680.0</td>\n",
       "      <td>0.951053</td>\n",
       "      <td>0.215759</td>\n",
       "      <td>0.0</td>\n",
       "      <td>1.0</td>\n",
       "      <td>1.0</td>\n",
       "      <td>1.0</td>\n",
       "      <td>1.0</td>\n",
       "    </tr>\n",
       "    <tr>\n",
       "      <th>NoDocbcCost</th>\n",
       "      <td>253680.0</td>\n",
       "      <td>0.084177</td>\n",
       "      <td>0.277654</td>\n",
       "      <td>0.0</td>\n",
       "      <td>0.0</td>\n",
       "      <td>0.0</td>\n",
       "      <td>0.0</td>\n",
       "      <td>1.0</td>\n",
       "    </tr>\n",
       "    <tr>\n",
       "      <th>GenHlth</th>\n",
       "      <td>253680.0</td>\n",
       "      <td>2.511392</td>\n",
       "      <td>1.068477</td>\n",
       "      <td>1.0</td>\n",
       "      <td>2.0</td>\n",
       "      <td>2.0</td>\n",
       "      <td>3.0</td>\n",
       "      <td>5.0</td>\n",
       "    </tr>\n",
       "    <tr>\n",
       "      <th>MentHlth</th>\n",
       "      <td>253680.0</td>\n",
       "      <td>3.184772</td>\n",
       "      <td>7.412847</td>\n",
       "      <td>0.0</td>\n",
       "      <td>0.0</td>\n",
       "      <td>0.0</td>\n",
       "      <td>2.0</td>\n",
       "      <td>30.0</td>\n",
       "    </tr>\n",
       "    <tr>\n",
       "      <th>PhysHlth</th>\n",
       "      <td>253680.0</td>\n",
       "      <td>4.242081</td>\n",
       "      <td>8.717951</td>\n",
       "      <td>0.0</td>\n",
       "      <td>0.0</td>\n",
       "      <td>0.0</td>\n",
       "      <td>3.0</td>\n",
       "      <td>30.0</td>\n",
       "    </tr>\n",
       "    <tr>\n",
       "      <th>DiffWalk</th>\n",
       "      <td>253680.0</td>\n",
       "      <td>0.168224</td>\n",
       "      <td>0.374066</td>\n",
       "      <td>0.0</td>\n",
       "      <td>0.0</td>\n",
       "      <td>0.0</td>\n",
       "      <td>0.0</td>\n",
       "      <td>1.0</td>\n",
       "    </tr>\n",
       "    <tr>\n",
       "      <th>Sex</th>\n",
       "      <td>253680.0</td>\n",
       "      <td>0.440342</td>\n",
       "      <td>0.496429</td>\n",
       "      <td>0.0</td>\n",
       "      <td>0.0</td>\n",
       "      <td>0.0</td>\n",
       "      <td>1.0</td>\n",
       "      <td>1.0</td>\n",
       "    </tr>\n",
       "    <tr>\n",
       "      <th>Age</th>\n",
       "      <td>253680.0</td>\n",
       "      <td>8.032119</td>\n",
       "      <td>3.054220</td>\n",
       "      <td>1.0</td>\n",
       "      <td>6.0</td>\n",
       "      <td>8.0</td>\n",
       "      <td>10.0</td>\n",
       "      <td>13.0</td>\n",
       "    </tr>\n",
       "    <tr>\n",
       "      <th>Education</th>\n",
       "      <td>253680.0</td>\n",
       "      <td>5.050434</td>\n",
       "      <td>0.985774</td>\n",
       "      <td>1.0</td>\n",
       "      <td>4.0</td>\n",
       "      <td>5.0</td>\n",
       "      <td>6.0</td>\n",
       "      <td>6.0</td>\n",
       "    </tr>\n",
       "    <tr>\n",
       "      <th>Income</th>\n",
       "      <td>253680.0</td>\n",
       "      <td>6.053875</td>\n",
       "      <td>2.071148</td>\n",
       "      <td>1.0</td>\n",
       "      <td>5.0</td>\n",
       "      <td>7.0</td>\n",
       "      <td>8.0</td>\n",
       "      <td>8.0</td>\n",
       "    </tr>\n",
       "  </tbody>\n",
       "</table>\n",
       "</div>"
      ],
      "text/plain": [
       "                         count       mean       std   min   25%   50%   75%  \\\n",
       "HeartDiseaseorAttack  253680.0   0.094186  0.292087   0.0   0.0   0.0   0.0   \n",
       "HighBP                253680.0   0.429001  0.494934   0.0   0.0   0.0   1.0   \n",
       "HighChol              253680.0   0.424121  0.494210   0.0   0.0   0.0   1.0   \n",
       "CholCheck             253680.0   0.962670  0.189571   0.0   1.0   1.0   1.0   \n",
       "BMI                   253680.0  28.382364  6.608694  12.0  24.0  27.0  31.0   \n",
       "Smoker                253680.0   0.443169  0.496761   0.0   0.0   0.0   1.0   \n",
       "Stroke                253680.0   0.040571  0.197294   0.0   0.0   0.0   0.0   \n",
       "Diabetes              253680.0   0.296921  0.698160   0.0   0.0   0.0   0.0   \n",
       "PhysActivity          253680.0   0.756544  0.429169   0.0   1.0   1.0   1.0   \n",
       "Fruits                253680.0   0.634256  0.481639   0.0   0.0   1.0   1.0   \n",
       "Veggies               253680.0   0.811420  0.391175   0.0   1.0   1.0   1.0   \n",
       "HvyAlcoholConsump     253680.0   0.056197  0.230302   0.0   0.0   0.0   0.0   \n",
       "AnyHealthcare         253680.0   0.951053  0.215759   0.0   1.0   1.0   1.0   \n",
       "NoDocbcCost           253680.0   0.084177  0.277654   0.0   0.0   0.0   0.0   \n",
       "GenHlth               253680.0   2.511392  1.068477   1.0   2.0   2.0   3.0   \n",
       "MentHlth              253680.0   3.184772  7.412847   0.0   0.0   0.0   2.0   \n",
       "PhysHlth              253680.0   4.242081  8.717951   0.0   0.0   0.0   3.0   \n",
       "DiffWalk              253680.0   0.168224  0.374066   0.0   0.0   0.0   0.0   \n",
       "Sex                   253680.0   0.440342  0.496429   0.0   0.0   0.0   1.0   \n",
       "Age                   253680.0   8.032119  3.054220   1.0   6.0   8.0  10.0   \n",
       "Education             253680.0   5.050434  0.985774   1.0   4.0   5.0   6.0   \n",
       "Income                253680.0   6.053875  2.071148   1.0   5.0   7.0   8.0   \n",
       "\n",
       "                       max  \n",
       "HeartDiseaseorAttack   1.0  \n",
       "HighBP                 1.0  \n",
       "HighChol               1.0  \n",
       "CholCheck              1.0  \n",
       "BMI                   98.0  \n",
       "Smoker                 1.0  \n",
       "Stroke                 1.0  \n",
       "Diabetes               2.0  \n",
       "PhysActivity           1.0  \n",
       "Fruits                 1.0  \n",
       "Veggies                1.0  \n",
       "HvyAlcoholConsump      1.0  \n",
       "AnyHealthcare          1.0  \n",
       "NoDocbcCost            1.0  \n",
       "GenHlth                5.0  \n",
       "MentHlth              30.0  \n",
       "PhysHlth              30.0  \n",
       "DiffWalk               1.0  \n",
       "Sex                    1.0  \n",
       "Age                   13.0  \n",
       "Education              6.0  \n",
       "Income                 8.0  "
      ]
     },
     "execution_count": 61,
     "metadata": {},
     "output_type": "execute_result"
    }
   ],
   "source": [
    "raw = pd.read_csv('heart_disease_health_indicators_BRFSS2015.csv')\n",
    "raw.describe().T"
   ]
  },
  {
   "cell_type": "markdown",
   "id": "39090124-337a-46f5-9f42-cd512f6878e6",
   "metadata": {
    "id": "39090124-337a-46f5-9f42-cd512f6878e6"
   },
   "source": [
    "## 4. Preprocessing\n",
    "No missing value. <br>\n",
    "The label is 'HeartDiseasorAttack' and the rest are features. <br>\n",
    "The data are splitted into 0.75 for training and 0.25 for testing."
   ]
  },
  {
   "cell_type": "code",
   "execution_count": 62,
   "id": "a55a5931-2e87-456d-b597-b11440fea6d2",
   "metadata": {
    "colab": {
     "base_uri": "https://localhost:8080/",
     "height": 708
    },
    "id": "a55a5931-2e87-456d-b597-b11440fea6d2",
    "outputId": "0a6a9801-8929-4d3b-dac4-528d5e5bd838"
   },
   "outputs": [
    {
     "data": {
      "text/html": [
       "<div>\n",
       "<style scoped>\n",
       "    .dataframe tbody tr th:only-of-type {\n",
       "        vertical-align: middle;\n",
       "    }\n",
       "\n",
       "    .dataframe tbody tr th {\n",
       "        vertical-align: top;\n",
       "    }\n",
       "\n",
       "    .dataframe thead th {\n",
       "        text-align: right;\n",
       "    }\n",
       "</style>\n",
       "<table border=\"1\" class=\"dataframe\">\n",
       "  <thead>\n",
       "    <tr style=\"text-align: right;\">\n",
       "      <th></th>\n",
       "      <th>count</th>\n",
       "      <th>mean</th>\n",
       "      <th>std</th>\n",
       "      <th>min</th>\n",
       "      <th>25%</th>\n",
       "      <th>50%</th>\n",
       "      <th>75%</th>\n",
       "      <th>max</th>\n",
       "    </tr>\n",
       "  </thead>\n",
       "  <tbody>\n",
       "    <tr>\n",
       "      <th>HighBP</th>\n",
       "      <td>253680.0</td>\n",
       "      <td>0.429001</td>\n",
       "      <td>0.494934</td>\n",
       "      <td>0.0</td>\n",
       "      <td>0.0</td>\n",
       "      <td>0.0</td>\n",
       "      <td>1.0</td>\n",
       "      <td>1.0</td>\n",
       "    </tr>\n",
       "    <tr>\n",
       "      <th>HighChol</th>\n",
       "      <td>253680.0</td>\n",
       "      <td>0.424121</td>\n",
       "      <td>0.494210</td>\n",
       "      <td>0.0</td>\n",
       "      <td>0.0</td>\n",
       "      <td>0.0</td>\n",
       "      <td>1.0</td>\n",
       "      <td>1.0</td>\n",
       "    </tr>\n",
       "    <tr>\n",
       "      <th>CholCheck</th>\n",
       "      <td>253680.0</td>\n",
       "      <td>0.962670</td>\n",
       "      <td>0.189571</td>\n",
       "      <td>0.0</td>\n",
       "      <td>1.0</td>\n",
       "      <td>1.0</td>\n",
       "      <td>1.0</td>\n",
       "      <td>1.0</td>\n",
       "    </tr>\n",
       "    <tr>\n",
       "      <th>BMI</th>\n",
       "      <td>253680.0</td>\n",
       "      <td>28.382364</td>\n",
       "      <td>6.608694</td>\n",
       "      <td>12.0</td>\n",
       "      <td>24.0</td>\n",
       "      <td>27.0</td>\n",
       "      <td>31.0</td>\n",
       "      <td>98.0</td>\n",
       "    </tr>\n",
       "    <tr>\n",
       "      <th>Smoker</th>\n",
       "      <td>253680.0</td>\n",
       "      <td>0.443169</td>\n",
       "      <td>0.496761</td>\n",
       "      <td>0.0</td>\n",
       "      <td>0.0</td>\n",
       "      <td>0.0</td>\n",
       "      <td>1.0</td>\n",
       "      <td>1.0</td>\n",
       "    </tr>\n",
       "    <tr>\n",
       "      <th>Stroke</th>\n",
       "      <td>253680.0</td>\n",
       "      <td>0.040571</td>\n",
       "      <td>0.197294</td>\n",
       "      <td>0.0</td>\n",
       "      <td>0.0</td>\n",
       "      <td>0.0</td>\n",
       "      <td>0.0</td>\n",
       "      <td>1.0</td>\n",
       "    </tr>\n",
       "    <tr>\n",
       "      <th>Diabetes</th>\n",
       "      <td>253680.0</td>\n",
       "      <td>0.296921</td>\n",
       "      <td>0.698160</td>\n",
       "      <td>0.0</td>\n",
       "      <td>0.0</td>\n",
       "      <td>0.0</td>\n",
       "      <td>0.0</td>\n",
       "      <td>2.0</td>\n",
       "    </tr>\n",
       "    <tr>\n",
       "      <th>PhysActivity</th>\n",
       "      <td>253680.0</td>\n",
       "      <td>0.756544</td>\n",
       "      <td>0.429169</td>\n",
       "      <td>0.0</td>\n",
       "      <td>1.0</td>\n",
       "      <td>1.0</td>\n",
       "      <td>1.0</td>\n",
       "      <td>1.0</td>\n",
       "    </tr>\n",
       "    <tr>\n",
       "      <th>Fruits</th>\n",
       "      <td>253680.0</td>\n",
       "      <td>0.634256</td>\n",
       "      <td>0.481639</td>\n",
       "      <td>0.0</td>\n",
       "      <td>0.0</td>\n",
       "      <td>1.0</td>\n",
       "      <td>1.0</td>\n",
       "      <td>1.0</td>\n",
       "    </tr>\n",
       "    <tr>\n",
       "      <th>Veggies</th>\n",
       "      <td>253680.0</td>\n",
       "      <td>0.811420</td>\n",
       "      <td>0.391175</td>\n",
       "      <td>0.0</td>\n",
       "      <td>1.0</td>\n",
       "      <td>1.0</td>\n",
       "      <td>1.0</td>\n",
       "      <td>1.0</td>\n",
       "    </tr>\n",
       "    <tr>\n",
       "      <th>HvyAlcoholConsump</th>\n",
       "      <td>253680.0</td>\n",
       "      <td>0.056197</td>\n",
       "      <td>0.230302</td>\n",
       "      <td>0.0</td>\n",
       "      <td>0.0</td>\n",
       "      <td>0.0</td>\n",
       "      <td>0.0</td>\n",
       "      <td>1.0</td>\n",
       "    </tr>\n",
       "    <tr>\n",
       "      <th>AnyHealthcare</th>\n",
       "      <td>253680.0</td>\n",
       "      <td>0.951053</td>\n",
       "      <td>0.215759</td>\n",
       "      <td>0.0</td>\n",
       "      <td>1.0</td>\n",
       "      <td>1.0</td>\n",
       "      <td>1.0</td>\n",
       "      <td>1.0</td>\n",
       "    </tr>\n",
       "    <tr>\n",
       "      <th>NoDocbcCost</th>\n",
       "      <td>253680.0</td>\n",
       "      <td>0.084177</td>\n",
       "      <td>0.277654</td>\n",
       "      <td>0.0</td>\n",
       "      <td>0.0</td>\n",
       "      <td>0.0</td>\n",
       "      <td>0.0</td>\n",
       "      <td>1.0</td>\n",
       "    </tr>\n",
       "    <tr>\n",
       "      <th>GenHlth</th>\n",
       "      <td>253680.0</td>\n",
       "      <td>2.511392</td>\n",
       "      <td>1.068477</td>\n",
       "      <td>1.0</td>\n",
       "      <td>2.0</td>\n",
       "      <td>2.0</td>\n",
       "      <td>3.0</td>\n",
       "      <td>5.0</td>\n",
       "    </tr>\n",
       "    <tr>\n",
       "      <th>MentHlth</th>\n",
       "      <td>253680.0</td>\n",
       "      <td>3.184772</td>\n",
       "      <td>7.412847</td>\n",
       "      <td>0.0</td>\n",
       "      <td>0.0</td>\n",
       "      <td>0.0</td>\n",
       "      <td>2.0</td>\n",
       "      <td>30.0</td>\n",
       "    </tr>\n",
       "    <tr>\n",
       "      <th>PhysHlth</th>\n",
       "      <td>253680.0</td>\n",
       "      <td>4.242081</td>\n",
       "      <td>8.717951</td>\n",
       "      <td>0.0</td>\n",
       "      <td>0.0</td>\n",
       "      <td>0.0</td>\n",
       "      <td>3.0</td>\n",
       "      <td>30.0</td>\n",
       "    </tr>\n",
       "    <tr>\n",
       "      <th>DiffWalk</th>\n",
       "      <td>253680.0</td>\n",
       "      <td>0.168224</td>\n",
       "      <td>0.374066</td>\n",
       "      <td>0.0</td>\n",
       "      <td>0.0</td>\n",
       "      <td>0.0</td>\n",
       "      <td>0.0</td>\n",
       "      <td>1.0</td>\n",
       "    </tr>\n",
       "    <tr>\n",
       "      <th>Sex</th>\n",
       "      <td>253680.0</td>\n",
       "      <td>0.440342</td>\n",
       "      <td>0.496429</td>\n",
       "      <td>0.0</td>\n",
       "      <td>0.0</td>\n",
       "      <td>0.0</td>\n",
       "      <td>1.0</td>\n",
       "      <td>1.0</td>\n",
       "    </tr>\n",
       "    <tr>\n",
       "      <th>Age</th>\n",
       "      <td>253680.0</td>\n",
       "      <td>8.032119</td>\n",
       "      <td>3.054220</td>\n",
       "      <td>1.0</td>\n",
       "      <td>6.0</td>\n",
       "      <td>8.0</td>\n",
       "      <td>10.0</td>\n",
       "      <td>13.0</td>\n",
       "    </tr>\n",
       "    <tr>\n",
       "      <th>Education</th>\n",
       "      <td>253680.0</td>\n",
       "      <td>5.050434</td>\n",
       "      <td>0.985774</td>\n",
       "      <td>1.0</td>\n",
       "      <td>4.0</td>\n",
       "      <td>5.0</td>\n",
       "      <td>6.0</td>\n",
       "      <td>6.0</td>\n",
       "    </tr>\n",
       "    <tr>\n",
       "      <th>Income</th>\n",
       "      <td>253680.0</td>\n",
       "      <td>6.053875</td>\n",
       "      <td>2.071148</td>\n",
       "      <td>1.0</td>\n",
       "      <td>5.0</td>\n",
       "      <td>7.0</td>\n",
       "      <td>8.0</td>\n",
       "      <td>8.0</td>\n",
       "    </tr>\n",
       "  </tbody>\n",
       "</table>\n",
       "</div>"
      ],
      "text/plain": [
       "                      count       mean       std   min   25%   50%   75%   max\n",
       "HighBP             253680.0   0.429001  0.494934   0.0   0.0   0.0   1.0   1.0\n",
       "HighChol           253680.0   0.424121  0.494210   0.0   0.0   0.0   1.0   1.0\n",
       "CholCheck          253680.0   0.962670  0.189571   0.0   1.0   1.0   1.0   1.0\n",
       "BMI                253680.0  28.382364  6.608694  12.0  24.0  27.0  31.0  98.0\n",
       "Smoker             253680.0   0.443169  0.496761   0.0   0.0   0.0   1.0   1.0\n",
       "Stroke             253680.0   0.040571  0.197294   0.0   0.0   0.0   0.0   1.0\n",
       "Diabetes           253680.0   0.296921  0.698160   0.0   0.0   0.0   0.0   2.0\n",
       "PhysActivity       253680.0   0.756544  0.429169   0.0   1.0   1.0   1.0   1.0\n",
       "Fruits             253680.0   0.634256  0.481639   0.0   0.0   1.0   1.0   1.0\n",
       "Veggies            253680.0   0.811420  0.391175   0.0   1.0   1.0   1.0   1.0\n",
       "HvyAlcoholConsump  253680.0   0.056197  0.230302   0.0   0.0   0.0   0.0   1.0\n",
       "AnyHealthcare      253680.0   0.951053  0.215759   0.0   1.0   1.0   1.0   1.0\n",
       "NoDocbcCost        253680.0   0.084177  0.277654   0.0   0.0   0.0   0.0   1.0\n",
       "GenHlth            253680.0   2.511392  1.068477   1.0   2.0   2.0   3.0   5.0\n",
       "MentHlth           253680.0   3.184772  7.412847   0.0   0.0   0.0   2.0  30.0\n",
       "PhysHlth           253680.0   4.242081  8.717951   0.0   0.0   0.0   3.0  30.0\n",
       "DiffWalk           253680.0   0.168224  0.374066   0.0   0.0   0.0   0.0   1.0\n",
       "Sex                253680.0   0.440342  0.496429   0.0   0.0   0.0   1.0   1.0\n",
       "Age                253680.0   8.032119  3.054220   1.0   6.0   8.0  10.0  13.0\n",
       "Education          253680.0   5.050434  0.985774   1.0   4.0   5.0   6.0   6.0\n",
       "Income             253680.0   6.053875  2.071148   1.0   5.0   7.0   8.0   8.0"
      ]
     },
     "execution_count": 62,
     "metadata": {},
     "output_type": "execute_result"
    }
   ],
   "source": [
    "target = raw['HeartDiseaseorAttack']\n",
    "features = raw.drop('HeartDiseaseorAttack', axis = 1)\n",
    "features.describe().T"
   ]
  },
  {
   "cell_type": "code",
   "execution_count": 63,
   "id": "lXmILK6747HV",
   "metadata": {
    "colab": {
     "base_uri": "https://localhost:8080/"
    },
    "id": "lXmILK6747HV",
    "outputId": "3bf2dc0d-f282-4861-cc24-f9d938ce501b"
   },
   "outputs": [
    {
     "name": "stdout",
     "output_type": "stream",
     "text": [
      "<class 'pandas.core.frame.DataFrame'>\n",
      "RangeIndex: 253680 entries, 0 to 253679\n",
      "Data columns (total 21 columns):\n",
      " #   Column             Non-Null Count   Dtype  \n",
      "---  ------             --------------   -----  \n",
      " 0   HighBP             253680 non-null  float64\n",
      " 1   HighChol           253680 non-null  float64\n",
      " 2   CholCheck          253680 non-null  float64\n",
      " 3   BMI                253680 non-null  float64\n",
      " 4   Smoker             253680 non-null  float64\n",
      " 5   Stroke             253680 non-null  float64\n",
      " 6   Diabetes           253680 non-null  float64\n",
      " 7   PhysActivity       253680 non-null  float64\n",
      " 8   Fruits             253680 non-null  float64\n",
      " 9   Veggies            253680 non-null  float64\n",
      " 10  HvyAlcoholConsump  253680 non-null  float64\n",
      " 11  AnyHealthcare      253680 non-null  float64\n",
      " 12  NoDocbcCost        253680 non-null  float64\n",
      " 13  GenHlth            253680 non-null  float64\n",
      " 14  MentHlth           253680 non-null  float64\n",
      " 15  PhysHlth           253680 non-null  float64\n",
      " 16  DiffWalk           253680 non-null  float64\n",
      " 17  Sex                253680 non-null  float64\n",
      " 18  Age                253680 non-null  float64\n",
      " 19  Education          253680 non-null  float64\n",
      " 20  Income             253680 non-null  float64\n",
      "dtypes: float64(21)\n",
      "memory usage: 40.6 MB\n"
     ]
    }
   ],
   "source": [
    "features.info()"
   ]
  },
  {
   "cell_type": "code",
   "execution_count": 64,
   "id": "G331cu795DE8",
   "metadata": {
    "colab": {
     "base_uri": "https://localhost:8080/"
    },
    "id": "G331cu795DE8",
    "outputId": "58a84a43-2ff4-409b-8c17-d8f635739aee"
   },
   "outputs": [
    {
     "data": {
      "text/plain": [
       "0.0    229787\n",
       "1.0     23893\n",
       "Name: HeartDiseaseorAttack, dtype: int64"
      ]
     },
     "execution_count": 64,
     "metadata": {},
     "output_type": "execute_result"
    }
   ],
   "source": [
    "target.value_counts()"
   ]
  },
  {
   "cell_type": "code",
   "execution_count": 65,
   "id": "PVjEHnXJ5a0c",
   "metadata": {
    "colab": {
     "base_uri": "https://localhost:8080/"
    },
    "id": "PVjEHnXJ5a0c",
    "outputId": "5946bc80-8348-44e9-aa1b-d0a242de668e"
   },
   "outputs": [
    {
     "data": {
      "text/plain": [
       "((190260, 21), (63420, 21))"
      ]
     },
     "execution_count": 65,
     "metadata": {},
     "output_type": "execute_result"
    }
   ],
   "source": [
    "X_train, X_test, y_train, y_test = train_test_split(features, target, random_state=11,train_size=0.75)\n",
    "np.shape(X_train), np.shape(X_test)"
   ]
  },
  {
   "cell_type": "code",
   "execution_count": 66,
   "id": "FMFQ76-FwQ_M",
   "metadata": {
    "id": "FMFQ76-FwQ_M"
   },
   "outputs": [],
   "source": [
    "from sklearn.preprocessing import StandardScaler\n",
    "scaler = StandardScaler()\n",
    "X_train = scaler.fit_transform(X_train)\n",
    "X_test = scaler.transform(X_test)"
   ]
  },
  {
   "cell_type": "markdown",
   "id": "9b381258-ac86-4c98-b563-e6f7fcc00ea4",
   "metadata": {
    "id": "9b381258-ac86-4c98-b563-e6f7fcc00ea4"
   },
   "source": [
    "## 5. Modeling\n",
    "\n",
    "Neural Network model with 2 layer. The input layer uses ReLU activation function and the output uses Sigmoid activation function. <br>\n",
    "Optimizer is RMS. <br>\n",
    "Loss function is Binary Crossentropy <br>\n",
    "Metrics Setting for evaluation is Binary Accuracy."
   ]
  },
  {
   "cell_type": "code",
   "execution_count": 67,
   "id": "8361c731-2489-4b95-83b2-3e305bfc3564",
   "metadata": {
    "colab": {
     "base_uri": "https://localhost:8080/"
    },
    "id": "8361c731-2489-4b95-83b2-3e305bfc3564",
    "outputId": "fd692a14-42b4-4929-bda0-47babcf370d0"
   },
   "outputs": [
    {
     "name": "stdout",
     "output_type": "stream",
     "text": [
      "Model: \"sequential_5\"\n",
      "_________________________________________________________________\n",
      "Layer (type)                 Output Shape              Param #   \n",
      "=================================================================\n",
      "normalization_5 (Normalizati (None, 21)                43        \n",
      "_________________________________________________________________\n",
      "dense_11 (Dense)             (None, 5)                 110       \n",
      "_________________________________________________________________\n",
      "dense_12 (Dense)             (None, 1)                 6         \n",
      "=================================================================\n",
      "Total params: 159\n",
      "Trainable params: 116\n",
      "Non-trainable params: 43\n",
      "_________________________________________________________________\n"
     ]
    }
   ],
   "source": [
    "normalize = layers.Normalization()\n",
    "normalize.adapt(X_train)\n",
    "\n",
    "def make_model():\n",
    "    model = models.Sequential([\n",
    "        normalize,\n",
    "        layers.Dense(5, activation = 'relu'),\n",
    "        layers.Dense(1, activation = 'sigmoid')\n",
    "    ])\n",
    "    \n",
    "    \n",
    "    model.compile(\n",
    "        optimizer = optimizers.RMSprop(),\n",
    "        loss = losses.BinaryCrossentropy(),\n",
    "        metrics = metrics.BinaryAccuracy(name = 'acc')\n",
    "    )\n",
    "    \n",
    "    return model\n",
    "    \n",
    "model = make_model()\n",
    "model.summary()"
   ]
  },
  {
   "cell_type": "markdown",
   "id": "0d488583-a8e6-4573-8e4e-65408edaf3e4",
   "metadata": {
    "id": "0d488583-a8e6-4573-8e4e-65408edaf3e4"
   },
   "source": [
    "## 6. Training\n",
    "Go through the training set 20 times with the batch size of 128.\n",
    "Spent 0.617 sec/epoch the total time is 12.34 sec."
   ]
  },
  {
   "cell_type": "code",
   "execution_count": 68,
   "id": "3d7603f1-d109-4246-852d-596311a9b855",
   "metadata": {
    "colab": {
     "base_uri": "https://localhost:8080/"
    },
    "id": "3d7603f1-d109-4246-852d-596311a9b855",
    "outputId": "43af2ed5-f30a-49db-dc32-1594f2270707"
   },
   "outputs": [
    {
     "name": "stdout",
     "output_type": "stream",
     "text": [
      "Total elapsed time 14.19 s and 0.710 s/epoch\n"
     ]
    }
   ],
   "source": [
    "EPOCHS = 20\n",
    "\n",
    "t0 = time.time()\n",
    "r = model.fit(\n",
    "    X_train,\n",
    "    y_train,\n",
    "    epochs = EPOCHS,\n",
    "    batch_size = 128,\n",
    "    verbose = 0,\n",
    "    )\n",
    "\n",
    "t1 = time.time()\n",
    "etime = t1 - t0\n",
    "print(f'Total elapsed time {etime:.2f} s and {etime/EPOCHS:.3f} s/epoch')"
   ]
  },
  {
   "cell_type": "markdown",
   "id": "c042a705-6922-4ad9-af15-5832b993e76c",
   "metadata": {
    "id": "c042a705-6922-4ad9-af15-5832b993e76c"
   },
   "source": [
    "## 7. Performance and evaluation"
   ]
  },
  {
   "cell_type": "code",
   "execution_count": 69,
   "id": "lbu-lGGd8I77",
   "metadata": {
    "id": "lbu-lGGd8I77"
   },
   "outputs": [],
   "source": [
    "epochs = r.epoch\n",
    "loss = r.history['loss']\n",
    "acc = r.history['acc']"
   ]
  },
  {
   "cell_type": "code",
   "execution_count": 70,
   "id": "d1cf3e35-4412-499f-a3a5-7aa820a45add",
   "metadata": {
    "colab": {
     "base_uri": "https://localhost:8080/",
     "height": 280
    },
    "id": "d1cf3e35-4412-499f-a3a5-7aa820a45add",
    "outputId": "aafa098c-fe0d-448a-cce7-1265e6758d5b"
   },
   "outputs": [
    {
     "data": {
      "image/png": "[encoded data removed]",
      "text/plain": [
       "<Figure size 432x288 with 2 Axes>"
      ]
     },
     "metadata": {
      "needs_background": "light"
     },
     "output_type": "display_data"
    }
   ],
   "source": [
    "plt.subplot(2, 1, 1)\n",
    "plt.plot(epochs, loss)\n",
    "plt.grid()\n",
    "plt.ylabel('Loss')\n",
    "\n",
    "plt.subplot(2, 1, 2)\n",
    "plt.plot(epochs, acc)\n",
    "plt.grid()\n",
    "plt.ylabel('Accuracy')\n",
    "plt.xlabel('Epoch')\n",
    "plt.show()"
   ]
  },
  {
   "cell_type": "code",
   "execution_count": 71,
   "id": "7d4e38ea-348e-4848-a09b-085d135f56da",
   "metadata": {
    "colab": {
     "base_uri": "https://localhost:8080/"
    },
    "id": "7d4e38ea-348e-4848-a09b-085d135f56da",
    "outputId": "f258cd29-8ac5-4be4-a75c-9da25dc0c46b"
   },
   "outputs": [
    {
     "name": "stdout",
     "output_type": "stream",
     "text": [
      "Training loss = 0.236\n",
      "Training accuracy = 0.908\n"
     ]
    }
   ],
   "source": [
    "print(f'Training loss = {loss[-1]:.3f}')\n",
    "print(f'Training accuracy = {acc[-1]:.3f}')"
   ]
  },
  {
   "cell_type": "code",
   "execution_count": 72,
   "id": "f8e2a92f-3870-476e-b370-b98b3cebbc03",
   "metadata": {
    "colab": {
     "base_uri": "https://localhost:8080/"
    },
    "id": "f8e2a92f-3870-476e-b370-b98b3cebbc03",
    "outputId": "de69e8d4-1265-4070-d28a-75c23b1f61bc"
   },
   "outputs": [
    {
     "name": "stdout",
     "output_type": "stream",
     "text": [
      "Test loss = 0.241\n",
      "Test accuracy = 0.908\n"
     ]
    }
   ],
   "source": [
    "test_loss, test_acc = model.evaluate(X_test, y_test, verbose = 0)\n",
    "print(f'Test loss = {test_loss:.3f}')\n",
    "print(f'Test accuracy = {test_acc:.3f}')"
   ]
  },
  {
   "cell_type": "code",
   "execution_count": 73,
   "id": "fcd30b00-a81d-47fb-b890-e042399b72ce",
   "metadata": {
    "id": "fcd30b00-a81d-47fb-b890-e042399b72ce"
   },
   "outputs": [],
   "source": [
    "predictions = model.predict(X_train)\n",
    "predictions = 1.0*(predictions >= 0.5)"
   ]
  },
  {
   "cell_type": "code",
   "execution_count": 74,
   "id": "91bf5ce1-1010-4780-a8de-7ac8ba13c802",
   "metadata": {
    "colab": {
     "base_uri": "https://localhost:8080/"
    },
    "id": "91bf5ce1-1010-4780-a8de-7ac8ba13c802",
    "outputId": "f43ba999-8c31-4509-cbbc-2da5bb12a7ba"
   },
   "outputs": [
    {
     "name": "stdout",
     "output_type": "stream",
     "text": [
      "[[171415    928]\n",
      " [ 16539   1378]]\n"
     ]
    }
   ],
   "source": [
    "cm = confusion_matrix(y_train, predictions)\n",
    "print(cm)"
   ]
  },
  {
   "cell_type": "code",
   "execution_count": 75,
   "id": "19d11202-79f9-4a84-b1ad-9be6bdb41710",
   "metadata": {
    "colab": {
     "base_uri": "https://localhost:8080/"
    },
    "id": "19d11202-79f9-4a84-b1ad-9be6bdb41710",
    "outputId": "7c8792cc-226c-4536-96fe-d0e3775d8639"
   },
   "outputs": [
    {
     "name": "stdout",
     "output_type": "stream",
     "text": [
      "              Confusion matrix\n",
      "                 Prediction\n",
      "Diagnose  Healthy   Disease      SUM\n",
      "Healthy    171415       928   172343\n",
      "Disease     16539      1378    17917\n",
      "SUM        187954      2306   190260\n"
     ]
    }
   ],
   "source": [
    "tn, fp, fn, tp = confusion_matrix(y_train, predictions).ravel()\n",
    "print('              Confusion matrix')\n",
    "print(f'                 Prediction')\n",
    "print(f'Diagnose  Healthy   Disease      SUM')\n",
    "print(f'Healthy  {tn:8d}  {fp:8d} {tn+fp:8d}')\n",
    "print(f'Disease  {fn:8d}  {tp:8d} {fn+tp:8d}')\n",
    "print(f'SUM      {tn+fn:8d}  {fp+tp:8d} {tn+fp+fn+tp:8d}')"
   ]
  },
  {
   "cell_type": "code",
   "execution_count": 76,
   "id": "e633e17f-443d-4e22-ba0e-706eba6ededb",
   "metadata": {
    "colab": {
     "base_uri": "https://localhost:8080/"
    },
    "id": "e633e17f-443d-4e22-ba0e-706eba6ededb",
    "outputId": "15699fe6-b12f-4a85-afeb-3f2c17ff2601"
   },
   "outputs": [
    {
     "name": "stdout",
     "output_type": "stream",
     "text": [
      "              precision    recall  f1-score   support\n",
      "\n",
      "     Healthy       0.91      0.99      0.95    172343\n",
      "     Disease       0.60      0.08      0.14     17917\n",
      "\n",
      "    accuracy                           0.91    190260\n",
      "   macro avg       0.75      0.54      0.54    190260\n",
      "weighted avg       0.88      0.91      0.87    190260\n",
      "\n"
     ]
    }
   ],
   "source": [
    "cr = classification_report(y_train, predictions, target_names = ['Healthy', 'Disease'])\n",
    "print(cr)"
   ]
  },
  {
   "cell_type": "code",
   "execution_count": 77,
   "id": "4df13e5c-db9c-41b5-a2c9-3229c353a524",
   "metadata": {
    "colab": {
     "base_uri": "https://localhost:8080/"
    },
    "id": "4df13e5c-db9c-41b5-a2c9-3229c353a524",
    "outputId": "195772c6-5626-4887-93a6-c4f0c2865dc2"
   },
   "outputs": [
    {
     "name": "stdout",
     "output_type": "stream",
     "text": [
      "Precision for Healthy = 0.91\n",
      "Precision for Disease = 0.60\n"
     ]
    }
   ],
   "source": [
    "print(f'Precision for Healthy = {tn/(tn+fn):.2f}')\n",
    "print(f'Precision for Disease = {tp/(fp+tp):.2f}')"
   ]
  },
  {
   "cell_type": "markdown",
   "id": "317f9d8f-57b0-4ccb-8b16-098b773c2fce",
   "metadata": {
    "id": "317f9d8f-57b0-4ccb-8b16-098b773c2fce"
   },
   "source": [
    "## 8. Discussion and conclusions"
   ]
  },
  {
   "cell_type": "markdown",
   "id": "a5491f93-5bce-4571-a1b0-a88c74445474",
   "metadata": {
    "id": "a5491f93-5bce-4571-a1b0-a88c74445474"
   },
   "source": [
    "We've tried 2 to 4 layers, 4 to 6 neurons, higher and lower epochs and higher and lower batch sizes. From our observation, their accuracies don't have a significant different between each others. The accuracy is somewhere between 90.6/90.7. Our best model has 2 layers. Input and hidden layers use ReLU activation function and the output layer uses Sigmoid activation function. The training set is 75% and the test set is 25%. The result of this model is 0.907 accuracy and 0.241 with the testing set. Our main observation is that the imbalance of the data (The difference of the amount of healthy and disease in the data) may causes the model to stuck at 90.7% accuracy after the trial and error with other settings. So, maybe the model can be improved by adjusting the imbalance of the data in the future."
   ]
  }
 ],
 "metadata": {
  "colab": {
   "name": "Case 1.ipynb",
   "provenance": []
  },
  "kernelspec": {
   "display_name": "Python 3",
   "language": "python",
   "name": "python3"
  },
  "language_info": {
   "codemirror_mode": {
    "name": "ipython",
    "version": 3
   },
   "file_extension": ".py",
   "mimetype": "text/x-python",
   "name": "python",
   "nbconvert_exporter": "python",
   "pygments_lexer": "ipython3",
   "version": "3.8.8"
  }
 },
 "nbformat": 4,
 "nbformat_minor": 5
}
